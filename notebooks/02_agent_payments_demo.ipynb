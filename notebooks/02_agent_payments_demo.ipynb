{
 "cells": [
  {
   "cell_type": "markdown",
   "id": "098019ff",
   "metadata": {},
   "source": [
    "# Payments Assistant (Agents) – Notebook Demo\n",
    "This notebook demonstrates a chat flow using the project’s Agent abstraction. Swap in Azure AI Agents Service when ready by configuring the endpoint and client implementation."
   ]
  },
  {
   "cell_type": "code",
   "execution_count": null,
   "id": "0d6702da",
   "metadata": {},
   "outputs": [],
   "source": [
    "# 1) Install and Import Dependencies\n",
    "!pip install -q python-dotenv ipytest fastapi pydantic"
   ]
  },
  {
   "cell_type": "code",
   "execution_count": null,
   "id": "4a850100",
   "metadata": {},
   "outputs": [],
   "source": [
    "# Imports\n",
    "import os, logging, json\n",
    "from dotenv import load_dotenv\n",
    "load_dotenv()\n",
    "import sys\n",
    "sys.path.append('..')\n",
    "from src.agents.agent_client import get_agent_client, Message"
   ]
  },
  {
   "cell_type": "code",
   "execution_count": null,
   "id": "30448331",
   "metadata": {},
   "outputs": [],
   "source": [
    "# 2) Configure Environment and Reproducibility\n",
    "logging.basicConfig(level=logging.INFO)"
   ]
  },
  {
   "cell_type": "code",
   "execution_count": null,
   "id": "ab2beed9",
   "metadata": {},
   "outputs": [],
   "source": [
    "# 3) Load or Generate Data\n",
    "# None needed for chat demo"
   ]
  },
  {
   "cell_type": "code",
   "execution_count": null,
   "id": "13dfa7aa",
   "metadata": {},
   "outputs": [],
   "source": [
    "# 4) Implement Core Functions or Classes\n",
    "def chat_once(prompt: str) -> str:\n",
    "    agent = get_agent_client()\n",
    "    msgs = [Message(role='user', content=prompt)]\n",
    "    return agent.chat(msgs)"
   ]
  },
  {
   "cell_type": "code",
   "execution_count": null,
   "id": "a5b418df",
   "metadata": {},
   "outputs": [],
   "source": [
    "# 5) Unit Tests (ipytest)\n",
    "import ipytest\n",
    "ipytest.autoconfig()\n",
    "\n",
    "%%ipytest -qq\n",
    "def test_chat_placeholder_returns_string():\n",
    "    res = chat_once(\"How do I process a refund?\")\n",
    "    assert isinstance(res, str) and len(res) > 0"
   ]
  },
  {
   "cell_type": "code",
   "execution_count": null,
   "id": "da4e2e09",
   "metadata": {},
   "outputs": [],
   "source": [
    "# 6) Run Core Workflow\n",
    "print(chat_once(\"What are the standard card present fees?\"))"
   ]
  },
  {
   "cell_type": "code",
   "execution_count": null,
   "id": "4bb220bc",
   "metadata": {},
   "outputs": [],
   "source": [
    "# 7) Visualize Results\n",
    "# (not applicable for text reply)"
   ]
  },
  {
   "cell_type": "code",
   "execution_count": null,
   "id": "591d8b98",
   "metadata": {},
   "outputs": [],
   "source": [
    "# 8) Save Outputs and Artifacts\n",
    "reply = chat_once(\"Can I refund an authorized transaction?\")\n",
    "from pathlib import Path\n",
    "out = Path('outputs'); out.mkdir(exist_ok=True)\n",
    "(out / 'agent_reply.txt').write_text(reply)\n",
    "print('Saved outputs/agent_reply.txt')"
   ]
  },
  {
   "cell_type": "code",
   "execution_count": null,
   "id": "7287b43a",
   "metadata": {},
   "outputs": [],
   "source": [
    "# 9) CLI/Script Entrypoint (optional)\n",
    "if __name__ == \"__main__\":\n",
    "    print(chat_once(\"What is a chargeback?\"))"
   ]
  },
  {
   "cell_type": "code",
   "execution_count": null,
   "id": "d9f7fb94",
   "metadata": {},
   "outputs": [],
   "source": [
    "# 10) Clean Up and Resource Release\n",
    "# Nothing to clean up in this demo.\n",
    "pass"
   ]
  }
 ],
 "metadata": {
  "language_info": {
   "name": "python"
  }
 },
 "nbformat": 4,
 "nbformat_minor": 5
}
