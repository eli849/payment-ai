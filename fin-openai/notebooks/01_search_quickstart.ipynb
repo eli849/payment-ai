{
 "cells": [
  {
   "cell_type": "markdown",
   "id": "e9da4484",
   "metadata": {},
   "source": [
    "# Azure AI Search quickstart (AAD with DefaultAzureCredential)\n",
    "This notebook shows how to use AAD (no keys) to query an Azure AI Search index securely, with robust error handling. It follows a reproducible and testable structure."
   ]
  },
  {
   "cell_type": "code",
   "execution_count": null,
   "id": "35cccbda",
   "metadata": {},
   "outputs": [],
   "source": [
    "# 1) Install and Import Dependencies\n",
    "!pip install -q python-dotenv azure-identity azure-search-documents ipytest"
   ]
  },
  {
   "cell_type": "code",
   "execution_count": null,
   "id": "fae9567a",
   "metadata": {},
   "outputs": [],
   "source": [
    "# Imports\n",
    "import os, random, json, time, logging, pathlib\n",
    "from datetime import datetime\n",
    "from dotenv import load_dotenv\n",
    "from azure.identity import DefaultAzureCredential\n",
    "from azure.search.documents import SearchClient\n",
    "load_dotenv()\n"
   ]
  },
  {
   "cell_type": "code",
   "execution_count": null,
   "id": "5cf5d38f",
   "metadata": {},
   "outputs": [],
   "source": [
    "# 2) Configure Environment and Reproducibility\n",
    "random.seed(42)\n",
    "logging.basicConfig(level=logging.INFO)\n",
    "SEARCH_SERVICE = os.getenv('AZURE_SEARCH_SERVICE')\n",
    "SEARCH_INDEX = os.getenv('AZURE_SEARCH_INDEX')\n",
    "assert SEARCH_SERVICE, \"Set AZURE_SEARCH_SERVICE in .env\"\n",
    "assert SEARCH_INDEX, \"Set AZURE_SEARCH_INDEX in .env\""
   ]
  },
  {
   "cell_type": "code",
   "execution_count": null,
   "id": "8035dc8f",
   "metadata": {},
   "outputs": [],
   "source": [
    "# 3) Load or Generate Data (optional inspection)\n",
    "from pathlib import Path\n",
    "DATA = Path('..') / 'data' / 'payments' / 'sample_transactions.csv'\n",
    "print('Sample data exists:', DATA.exists(), DATA)"
   ]
  },
  {
   "cell_type": "code",
   "execution_count": null,
   "id": "a74762fb",
   "metadata": {},
   "outputs": [],
   "source": [
    "# 4) Implement Core Functions or Classes\n",
    "from typing import List, Dict, Any\n",
    "from azure.search.documents.models import QueryType\n",
    "def get_search_client() -> SearchClient:\n",
    "    endpoint = f\"https://{SEARCH_SERVICE}.search.windows.net\"\n",
    "    cred = DefaultAzureCredential()\n",
    "    return SearchClient(endpoint=endpoint, index_name=SEARCH_INDEX, credential=cred)\n",
    "\n",
    "def query_search(q: str, top: int = 5) -> List[Dict[str, Any]]:\n",
    "    client = get_search_client()\n",
    "    results = client.search(search_text=q, query_type=QueryType.SIMPLE, top=top)\n",
    "    return [dict(r) for r in results]"
   ]
  },
  {
   "cell_type": "code",
   "execution_count": null,
   "id": "0b9f4ee4",
   "metadata": {},
   "outputs": [],
   "source": [
    "# 5) Unit Tests (ipytest)\n",
    "import ipytest\n",
    "ipytest.autoconfig()\n",
    "\n",
    "%%ipytest -qq\n",
    "def test_query_handles_results():\n",
    "    import types\n",
    "    # Smoke test: function should return a list (may be empty in local env)\n",
    "    try:\n",
    "        res = query_search(\"payment\")\n",
    "        assert isinstance(res, list)\n",
    "    except Exception as ex:\n",
    "        # In case env is not configured, ensure meaningful error\n",
    "        assert any(s in str(ex).lower() for s in [\"unauthorized\", \"forbidden\", \"azure\", \"credential\", \"index\"])"
   ]
  },
  {
   "cell_type": "code",
   "execution_count": null,
   "id": "08087bac",
   "metadata": {},
   "outputs": [],
   "source": [
    "# 6) Run Core Workflow\n",
    "try:\n",
    "    results = query_search(\"chargeback\", top=3)\n",
    "    print(f\"Returned {len(results)} docs\")\n",
    "    for r in results:\n",
    "        print(list(r.keys())[:5])\n",
    "except Exception as ex:\n",
    "    print(\"Query failed:\", ex)"
   ]
  },
  {
   "cell_type": "code",
   "execution_count": null,
   "id": "7151b8e7",
   "metadata": {},
   "outputs": [],
   "source": [
    "# 7) Visualize Results\n",
    "import pandas as pd\n",
    "import matplotlib.pyplot as plt\n",
    "%matplotlib inline\n",
    "\n",
    "df = pd.DataFrame(results) if 'results' in globals() else pd.DataFrame([])\n",
    "display(df.head())\n",
    "if not df.empty:\n",
    "    df['dummy_metric'] = 1\n",
    "    df['dummy_metric'].value_counts().plot(kind='bar', title='Result Count')\n",
    "    plt.show()"
   ]
  },
  {
   "cell_type": "code",
   "execution_count": null,
   "id": "db67f5bf",
   "metadata": {},
   "outputs": [],
   "source": [
    "# 8) Save Outputs and Artifacts\n",
    "from datetime import datetime\n",
    "ts = datetime.utcnow().strftime('%Y%m%d_%H%M%S')\n",
    "out = pathlib.Path('outputs'); out.mkdir(exist_ok=True, parents=True)\n",
    "p = out / f\"results_{ts}.json\"\n",
    "if 'results' in globals():\n",
    "    p.write_text(json.dumps(results, indent=2))\n",
    "    print('Saved', p)\n",
    "else:\n",
    "    print('No results to save')"
   ]
  },
  {
   "cell_type": "code",
   "execution_count": null,
   "id": "2879bb68",
   "metadata": {},
   "outputs": [],
   "source": [
    "# 9) CLI/Script Entrypoint (optional)\n",
    "if __name__ == \"__main__\":\n",
    "    try:\n",
    "        print(query_search(\"refund\", top=2))\n",
    "    except Exception as ex:\n",
    "        print(\"Error:\", ex)"
   ]
  },
  {
   "cell_type": "code",
   "execution_count": null,
   "id": "1f7ee7d0",
   "metadata": {},
   "outputs": [],
   "source": [
    "# 10) Clean Up and Resource Release\n",
    "# Nothing to clean up for Search client in this example.\n",
    "pass"
   ]
  }
 ],
 "metadata": {
  "language_info": {
   "name": "python"
  }
 },
 "nbformat": 4,
 "nbformat_minor": 5
}
